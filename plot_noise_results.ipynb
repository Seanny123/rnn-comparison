{
 "cells": [
  {
   "cell_type": "code",
   "execution_count": 1,
   "metadata": {
    "collapsed": true
   },
   "outputs": [],
   "source": [
    "import seaborn as sns\n",
    "import pandas as pd\n",
    "import matplotlib.pyplot as plt\n",
    "import numpy as np\n",
    "%matplotlib inline"
   ]
  },
  {
   "cell_type": "code",
   "execution_count": 19,
   "metadata": {
    "collapsed": false
   },
   "outputs": [
    {
     "name": "stdout",
     "output_type": "stream",
     "text": [
      "Done reading\n"
     ]
    }
   ],
   "source": [
    "aa = pd.read_hdf('results/noise_type_exp_res_06_27_12.h5')\n",
    "bb = pd.read_hdf('results/noise_type_exp_res_08_13_53.h5')\n",
    "df = pd.concat((aa, bb))\n",
    "df.reset_index()\n",
    "print(\"Done reading\")"
   ]
  },
  {
   "cell_type": "code",
   "execution_count": 20,
   "metadata": {
    "collapsed": false
   },
   "outputs": [
    {
     "data": {
      "text/plain": [
       "Index([u't_len', u'dims', u'n_classes', u'approach', u'accuracy', u'ad_mean',\n",
       "       u'ad_std', u'gd_mean', u'gd_std', u'conf_mean', u'conf_std',\n",
       "       u'noise type'],\n",
       "      dtype='object')"
      ]
     },
     "execution_count": 20,
     "metadata": {},
     "output_type": "execute_result"
    }
   ],
   "source": [
    "df.columns"
   ]
  },
  {
   "cell_type": "code",
   "execution_count": 21,
   "metadata": {
    "collapsed": false
   },
   "outputs": [
    {
     "data": {
      "text/plain": [
       "array(['add_rand_noise', 'shot_noise', 'offset', 'low_filt', 'whitenoise'], dtype=object)"
      ]
     },
     "execution_count": 21,
     "metadata": {},
     "output_type": "execute_result"
    }
   ],
   "source": [
    "df['noise type'].unique()"
   ]
  },
  {
   "cell_type": "code",
   "execution_count": 31,
   "metadata": {
    "collapsed": false
   },
   "outputs": [
    {
     "data": {
      "image/png": "[encoded data removed]",
      "text/plain": [
       "<matplotlib.figure.Figure at 0x7ff380746790>"
      ]
     },
     "metadata": {},
     "output_type": "display_data"
    }
   ],
   "source": [
    "ff = sns.barplot(x=\"noise type\", y=\"accuracy\", hue=\"approach\", data=df)\n",
    "ff.set_xlabel(\"Noise Type\")\n",
    "ff.set_ylabel(\"Mean Accuracy\")\n",
    "ff.set_title(\"Effect of Noise Type on Classifier Accuracy\")\n",
    "ff.set_xticklabels(\n",
    "    [\"Add White\\nNoise Signal\", \"Add Shot\\nNoise\", \"Insert\\nOffset\", \"Filter with\\nLow Pass\", \"Add White\\nNoise\"],\n",
    "    rotation=False\n",
    ")\n",
    "fig = ff.get_figure()\n",
    "fig.subplots_adjust(bottom=0.15)\n",
    "fig.savefig(\"noise_type.pdf\", format=\"pdf\")"
   ]
  },
  {
   "cell_type": "markdown",
   "metadata": {},
   "source": [
    "Interesting to note that the loss of high-frequency information had almost no effect on the SVM classifier.\n",
    "Also interesting that shot noise was more harmful to the vRNN than to SNN methods.\n",
    "Not surprising that additive white noise had the greatest effect on accuracy for all classification methods."
   ]
  },
  {
   "cell_type": "code",
   "execution_count": null,
   "metadata": {
    "collapsed": true
   },
   "outputs": [],
   "source": []
  }
 ],
 "metadata": {
  "kernelspec": {
   "display_name": "Python 2",
   "language": "python",
   "name": "python2"
  },
  "language_info": {
   "codemirror_mode": {
    "name": "ipython",
    "version": 2
   },
   "file_extension": ".py",
   "mimetype": "text/x-python",
   "name": "python",
   "nbconvert_exporter": "python",
   "pygments_lexer": "ipython2",
   "version": "2.7.6"
  }
 },
 "nbformat": 4,
 "nbformat_minor": 0
}
