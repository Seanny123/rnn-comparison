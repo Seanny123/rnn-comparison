{
 "cells": [
  {
   "cell_type": "code",
   "execution_count": 1,
   "metadata": {
    "collapsed": false
   },
   "outputs": [
    {
     "name": "stdout",
     "output_type": "stream",
     "text": [
      "[[[ 0.    0.    0.   ..., -1.   -1.   -1.  ]\n",
      "  [ 0.    0.    0.   ..., -1.   -1.   -1.  ]]\n",
      "\n",
      " [[ 0.    0.    0.   ...,  1.    1.    1.  ]\n",
      "  [ 0.    0.    0.   ...,  1.    1.    1.  ]]\n",
      "\n",
      " [[ 0.    0.    0.   ...,  0.25  0.25  0.25]\n",
      "  [ 0.    0.    0.   ...,  0.25  0.25  0.25]]]\n",
      "(3, 2, 510)\n"
     ]
    }
   ],
   "source": [
    "import numpy as np\n",
    "from rnncomp.dataman import *\n",
    "\n",
    "fi = np.load(\"datasets/dataset_flatcls_0.5_2_3_0.npz\")\n",
    "desc = fi[\"class_desc\"].item()\n",
    "nengo_dat, nengo_cor = make_run_args_nengo(fi)\n",
    "print(nengo_dat)\n",
    "print(nengo_dat.shape)"
   ]
  },
  {
   "cell_type": "markdown",
   "metadata": {},
   "source": [
    "Desired output format for dat: `[time_steps, dimensions]` <br>\n",
    "Desired output format for cor: `[time_steps, 1, n_classes]`"
   ]
  },
  {
   "cell_type": "code",
   "execution_count": 2,
   "metadata": {
    "collapsed": false
   },
   "outputs": [
    {
     "name": "stdout",
     "output_type": "stream",
     "text": [
      "[[ 0.  0.]\n",
      " [ 0.  0.]\n",
      " [ 0.  0.]\n",
      " ..., \n",
      " [-1. -1.]\n",
      " [-1. -1.]\n",
      " [-1. -1.]]\n"
     ]
    }
   ],
   "source": [
    "dim_last = nengo_dat.reshape((3, 510, 2))\n",
    "print(dim_last[0, :, :])"
   ]
  },
  {
   "cell_type": "code",
   "execution_count": 3,
   "metadata": {
    "collapsed": false
   },
   "outputs": [
    {
     "name": "stdout",
     "output_type": "stream",
     "text": [
      "Chunk A\n",
      "[[ 0.  0.]\n",
      " [ 0.  0.]\n",
      " [ 0.  0.]\n",
      " ..., \n",
      " [-1. -1.]\n",
      " [-1. -1.]\n",
      " [-1. -1.]]\n",
      "Chunk B\n",
      "[[ 0.  0.]\n",
      " [ 0.  0.]\n",
      " [ 0.  0.]\n",
      " ..., \n",
      " [ 1.  1.]\n",
      " [ 1.  1.]\n",
      " [ 1.  1.]]\n",
      "Chunk C\n",
      "[[ 0.    0.  ]\n",
      " [ 0.    0.  ]\n",
      " [ 0.    0.  ]\n",
      " ..., \n",
      " [ 0.25  0.25]\n",
      " [ 0.25  0.25]\n",
      " [ 0.25  0.25]]\n"
     ]
    }
   ],
   "source": [
    "comb = dim_last.reshape((3*510, 1, 2))\n",
    "print(\"Chunk A\")\n",
    "print(comb[:510, 0, :])\n",
    "print(\"Chunk B\")\n",
    "print(comb[510:2*510, 0, :])\n",
    "print(\"Chunk C\")\n",
    "print(comb[2*510:3*510, 0, :])"
   ]
  },
  {
   "cell_type": "code",
   "execution_count": 4,
   "metadata": {
    "collapsed": true
   },
   "outputs": [],
   "source": [
    "t_steps = 10\n",
    "n_classes = 3\n",
    "sig_num = 1\n",
    "pause_size = 5"
   ]
  },
  {
   "cell_type": "code",
   "execution_count": 5,
   "metadata": {
    "collapsed": false
   },
   "outputs": [
    {
     "name": "stdout",
     "output_type": "stream",
     "text": [
      "[[1 0 0]\n",
      " [0 1 0]\n",
      " [0 0 1]]\n",
      "[1 0 0]\n",
      "(3, 3)\n"
     ]
    }
   ],
   "source": [
    "print(nengo_cor)\n",
    "print(nengo_cor[0])\n",
    "print(nengo_cor.shape)"
   ]
  },
  {
   "cell_type": "code",
   "execution_count": 6,
   "metadata": {
    "collapsed": false
   },
   "outputs": [
    {
     "name": "stdout",
     "output_type": "stream",
     "text": [
      "[[[1 0 0]]\n",
      "\n",
      " [[1 0 0]]\n",
      "\n",
      " [[1 0 0]]]\n",
      "(30, 1, 3)\n"
     ]
    }
   ],
   "source": [
    "re_cor = np.repeat(nengo_cor, t_steps, axis=0).reshape((-1, 1, n_classes))\n",
    "print(re_cor[:3])\n",
    "print(re_cor.shape)"
   ]
  },
  {
   "cell_type": "code",
   "execution_count": 7,
   "metadata": {
    "collapsed": false
   },
   "outputs": [
    {
     "data": {
      "text/plain": [
       "array([[1, 0, 0]], dtype=int8)"
      ]
     },
     "execution_count": 7,
     "metadata": {},
     "output_type": "execute_result"
    }
   ],
   "source": [
    "re_cor[1]"
   ]
  },
  {
   "cell_type": "code",
   "execution_count": 38,
   "metadata": {
    "collapsed": false
   },
   "outputs": [
    {
     "name": "stdout",
     "output_type": "stream",
     "text": [
      "(3, 5, 3)\n",
      "(3, 10, 3)\n"
     ]
    }
   ],
   "source": [
    "tot_sigs = n_classes*sig_num\n",
    "zer = np.zeros((tot_sigs, pause_size, n_classes), dtype=np.int8)\n",
    "re_zer = np.repeat(nengo_cor, t_steps, axis=0).reshape((tot_sigs, -1, n_classes))\n",
    "print(zer.shape)\n",
    "print(re_zer.shape)"
   ]
  },
  {
   "cell_type": "code",
   "execution_count": 40,
   "metadata": {
    "collapsed": false
   },
   "outputs": [
    {
     "name": "stdout",
     "output_type": "stream",
     "text": [
      "[[[0 0 0]]\n",
      "\n",
      " [[0 0 0]]\n",
      "\n",
      " [[0 0 0]]\n",
      "\n",
      " [[0 0 0]]\n",
      "\n",
      " [[0 0 0]]\n",
      "\n",
      " [[1 0 0]]\n",
      "\n",
      " [[1 0 0]]\n",
      "\n",
      " [[1 0 0]]\n",
      "\n",
      " [[1 0 0]]\n",
      "\n",
      " [[1 0 0]]\n",
      "\n",
      " [[1 0 0]]\n",
      "\n",
      " [[1 0 0]]\n",
      "\n",
      " [[1 0 0]]\n",
      "\n",
      " [[1 0 0]]\n",
      "\n",
      " [[1 0 0]]\n",
      "\n",
      " [[0 0 0]]\n",
      "\n",
      " [[0 0 0]]\n",
      "\n",
      " [[0 0 0]]\n",
      "\n",
      " [[0 0 0]]\n",
      "\n",
      " [[0 0 0]]\n",
      "\n",
      " [[0 1 0]]\n",
      "\n",
      " [[0 1 0]]\n",
      "\n",
      " [[0 1 0]]\n",
      "\n",
      " [[0 1 0]]\n",
      "\n",
      " [[0 1 0]]\n",
      "\n",
      " [[0 1 0]]\n",
      "\n",
      " [[0 1 0]]\n",
      "\n",
      " [[0 1 0]]\n",
      "\n",
      " [[0 1 0]]\n",
      "\n",
      " [[0 1 0]]\n",
      "\n",
      " [[0 0 0]]\n",
      "\n",
      " [[0 0 0]]\n",
      "\n",
      " [[0 0 0]]\n",
      "\n",
      " [[0 0 0]]\n",
      "\n",
      " [[0 0 0]]\n",
      "\n",
      " [[0 0 1]]\n",
      "\n",
      " [[0 0 1]]\n",
      "\n",
      " [[0 0 1]]\n",
      "\n",
      " [[0 0 1]]\n",
      "\n",
      " [[0 0 1]]\n",
      "\n",
      " [[0 0 1]]\n",
      "\n",
      " [[0 0 1]]\n",
      "\n",
      " [[0 0 1]]\n",
      "\n",
      " [[0 0 1]]\n",
      "\n",
      " [[0 0 1]]]\n",
      "(45, 1, 3)\n"
     ]
    }
   ],
   "source": [
    "cor = np.concatenate((zer, re_zer), axis=1).reshape(-1, 1, n_classes)\n",
    "print(cor)\n",
    "print(cor.shape)"
   ]
  }
 ],
 "metadata": {
  "kernelspec": {
   "display_name": "Python 2",
   "language": "python",
   "name": "python2"
  },
  "language_info": {
   "codemirror_mode": {
    "name": "ipython",
    "version": 2
   },
   "file_extension": ".py",
   "mimetype": "text/x-python",
   "name": "python",
   "nbconvert_exporter": "python",
   "pygments_lexer": "ipython2",
   "version": "2.7.6"
  }
 },
 "nbformat": 4,
 "nbformat_minor": 0
}
