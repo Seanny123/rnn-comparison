{
 "cells": [
  {
   "cell_type": "code",
   "execution_count": 1,
   "metadata": {
    "collapsed": true
   },
   "outputs": [],
   "source": [
    "from rnncomp.dataman import *\n",
    "from rnncomp.augman import *\n",
    "from rnncomp.constants import *\n",
    "\n",
    "import matplotlib.pyplot as plt\n",
    "import seaborn as sns\n",
    "import numpy as np\n",
    "%matplotlib inline"
   ]
  },
  {
   "cell_type": "code",
   "execution_count": 2,
   "metadata": {
    "collapsed": false
   },
   "outputs": [
    {
     "name": "stdout",
     "output_type": "stream",
     "text": [
      "{'dims': 2, 'SEED': 0, 'class_type': 'flat', 'n_classes': 3, 't_len': 0.1}\n",
      "(3, 1, 2, 100)\n"
     ]
    }
   ],
   "source": [
    "dat, desc = mk_cls_dataset(t_len=0.1, dims=2, n_classes=3, freq=5, class_type=\"flat\", save_dir=None)\n",
    "print(desc)\n",
    "print(dat.shape)"
   ]
  },
  {
   "cell_type": "code",
   "execution_count": 4,
   "metadata": {
    "collapsed": false
   },
   "outputs": [
    {
     "name": "stdout",
     "output_type": "stream",
     "text": [
      "(3, 3, 2, 100)\n"
     ]
    }
   ],
   "source": [
    "f_dat = np.tile(dat, (1, 3, 1, 1))\n",
    "print(f_dat.shape)"
   ]
  },
  {
   "cell_type": "code",
   "execution_count": 5,
   "metadata": {
    "collapsed": false
   },
   "outputs": [],
   "source": [
    "assert np.all(f_dat[1, 1, 1] == f_dat[1, 2, 1])"
   ]
  },
  {
   "cell_type": "code",
   "execution_count": 6,
   "metadata": {
    "collapsed": false
   },
   "outputs": [
    {
     "name": "stdout",
     "output_type": "stream",
     "text": [
      "[ 0.625  0.625  0.625  0.625  0.625  0.625  0.625  0.625  0.625  0.625]\n",
      "[ 0.625  0.625  0.625  0.625  0.625  0.625  0.625  0.625  0.625  0.625]\n",
      "[ 0.25  0.25  0.25  0.25  0.25  0.25  0.25  0.25  0.25  0.25]\n",
      "[ 0.25  0.25  0.25  0.25  0.25  0.25  0.25  0.25  0.25  0.25]\n"
     ]
    }
   ],
   "source": [
    "print(f_dat[1, 1, 1, :10])\n",
    "print(f_dat[1, 2, 1, :10])\n",
    "print(f_dat[0, 1, 1, :10])\n",
    "print(f_dat[0, 2, 1, :10])"
   ]
  },
  {
   "cell_type": "code",
   "execution_count": 7,
   "metadata": {
    "collapsed": false
   },
   "outputs": [
    {
     "name": "stdout",
     "output_type": "stream",
     "text": [
      "(9, 2, 110)\n",
      "(9, 3)\n"
     ]
    }
   ],
   "source": [
    "nengo_dat, nengo_cor = make_run_args_nengo(f_dat)\n",
    "print(nengo_dat.shape)\n",
    "print(nengo_cor.shape)"
   ]
  },
  {
   "cell_type": "code",
   "execution_count": 8,
   "metadata": {
    "collapsed": false
   },
   "outputs": [
    {
     "name": "stdout",
     "output_type": "stream",
     "text": [
      "(3, 2, 110)\n",
      "(3, 3)\n"
     ]
    }
   ],
   "source": [
    "dd, cc = make_run_args_nengo(dat)\n",
    "print(dd.shape)\n",
    "print(cc.shape)"
   ]
  },
  {
   "cell_type": "code",
   "execution_count": 9,
   "metadata": {
    "collapsed": false
   },
   "outputs": [
    {
     "name": "stdout",
     "output_type": "stream",
     "text": [
      "(330, 1, 2)\n",
      "(330, 1, 3)\n"
     ]
    }
   ],
   "source": [
    "ad, ac = make_run_args_ann(dd, cc)\n",
    "print(ad.shape)\n",
    "print(ac.shape)"
   ]
  },
  {
   "cell_type": "code",
   "execution_count": 10,
   "metadata": {
    "collapsed": false
   },
   "outputs": [
    {
     "name": "stdout",
     "output_type": "stream",
     "text": [
      "(990, 1, 2)\n",
      "(990, 1, 3)\n"
     ]
    }
   ],
   "source": [
    "ann_dat, ann_cor = make_run_args_ann(nengo_dat, nengo_cor)\n",
    "print(ann_dat.shape)\n",
    "print(ann_cor.shape)"
   ]
  },
  {
   "cell_type": "code",
   "execution_count": 13,
   "metadata": {
    "collapsed": false
   },
   "outputs": [
    {
     "name": "stdout",
     "output_type": "stream",
     "text": [
      "(3, 3, 2, 100)\n",
      "(3, 3, 2, 100)\n"
     ]
    }
   ],
   "source": [
    "print(f_dat.shape)\n",
    "res_dat = np.array(aug(f_dat, desc, 3, add_rand_noise, kwargs={\"scale\": 0.01, \"sig\": True}, save_dir=None))\n",
    "print(res_dat.shape)"
   ]
  },
  {
   "cell_type": "code",
   "execution_count": 16,
   "metadata": {
    "collapsed": false
   },
   "outputs": [
    {
     "data": {
      "text/plain": [
       "[<matplotlib.lines.Line2D at 0x7f9ced8d12d0>]"
      ]
     },
     "execution_count": 16,
     "metadata": {},
     "output_type": "execute_result"
    },
    {
     "data": {
      "image/png": "[encoded data removed]",
      "text/plain": [
       "<matplotlib.figure.Figure at 0x7f9ced952ed0>"
      ]
     },
     "metadata": {},
     "output_type": "display_data"
    }
   ],
   "source": [
    "plt.plot(res_dat[0, 0, 1])\n",
    "plt.plot(res_dat[0, 1, 1])\n",
    "plt.plot(res_dat[0, 2, 1])\n",
    "\n",
    "plt.plot(res_dat[1, 0, 1])\n",
    "plt.plot(res_dat[1, 1, 1])\n",
    "plt.plot(res_dat[1, 2, 1])"
   ]
  }
 ],
 "metadata": {
  "kernelspec": {
   "display_name": "Python 2",
   "language": "python",
   "name": "python2"
  },
  "language_info": {
   "codemirror_mode": {
    "name": "ipython",
    "version": 2
   },
   "file_extension": ".py",
   "mimetype": "text/x-python",
   "name": "python",
   "nbconvert_exporter": "python",
   "pygments_lexer": "ipython2",
   "version": "2.7.6"
  }
 },
 "nbformat": 4,
 "nbformat_minor": 0
}
