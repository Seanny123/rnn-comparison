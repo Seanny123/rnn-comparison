{
 "cells": [
  {
   "cell_type": "code",
   "execution_count": 2,
   "metadata": {
    "collapsed": false
   },
   "outputs": [],
   "source": [
    "from rnncomp.dataman import *\n",
    "\n",
    "import matplotlib.pyplot as plt\n",
    "import numpy as np\n",
    "%matplotlib inline"
   ]
  },
  {
   "cell_type": "code",
   "execution_count": 6,
   "metadata": {
    "collapsed": true
   },
   "outputs": [],
   "source": [
    "def load_dat_file(fi):\n",
    "    \"\"\"stupid hack to let `make_run_args` accept a file\n",
    "    or just a dat structure\"\"\"\n",
    "\n",
    "    if type(fi) == np.lib.npyio.NpzFile:\n",
    "        dat = fi[\"class_sig_list\"]\n",
    "    else:\n",
    "        dat = fi\n",
    "\n",
    "    cls_num = dat.shape[0]\n",
    "    sig_num = dat.shape[1]\n",
    "    dims = dat.shape[2]\n",
    "    t_steps = dat.shape[3]\n",
    "\n",
    "    return dat, cls_num, sig_num, dims, t_steps"
   ]
  },
  {
   "cell_type": "code",
   "execution_count": 12,
   "metadata": {
    "collapsed": true
   },
   "outputs": [],
   "source": [
    "def make_run_args_nengo(fi):\n",
    "    \"\"\"reshape before passing (stop organising by class) \n",
    "    and get the correct-ans and pass that too\n",
    "\n",
    "    the Nengo args need to be defined for each time step and include pauses\"\"\"\n",
    "\n",
    "    dat, cls_num, sig_num, dims, t_steps = load_dat_file(fi)\n",
    "\n",
    "    pause_size = int(PAUSE/dt)\n",
    "\n",
    "    # append zeros to the questions for pauses\n",
    "    tot_sigs = int(cls_num*sig_num)\n",
    "    zer = np.zeros((tot_sigs, dims, pause_size))\n",
    "    re_zer = dat.reshape((tot_sigs, dims, t_steps))\n",
    "    final_dat = np.concatenate((zer, re_zer), axis=2)\n",
    "    return final_dat"
   ]
  },
  {
   "cell_type": "code",
   "execution_count": 44,
   "metadata": {
    "collapsed": false
   },
   "outputs": [
    {
     "name": "stdout",
     "output_type": "stream",
     "text": [
      "(3, 1, 2, 100)\n"
     ]
    }
   ],
   "source": [
    "t_dat, t_cor = mk_cls_dataset(t_len=0.1, dims=2, n_classes=3, freq=0, class_type=\"flat\", save_res=False)[0]\n",
    "print(t_dat.shape)"
   ]
  },
  {
   "cell_type": "code",
   "execution_count": 45,
   "metadata": {
    "collapsed": false
   },
   "outputs": [
    {
     "name": "stdout",
     "output_type": "stream",
     "text": [
      "(3, 2, 110)\n"
     ]
    }
   ],
   "source": [
    "res = make_run_args_nengo(t_dat)\n",
    "print(res.shape)"
   ]
  },
  {
   "cell_type": "code",
   "execution_count": 54,
   "metadata": {
    "collapsed": false
   },
   "outputs": [
    {
     "data": {
      "text/plain": [
       "(0, 1.1)"
      ]
     },
     "execution_count": 54,
     "metadata": {},
     "output_type": "execute_result"
    },
    {
     "data": {
      "image/png": "[encoded data removed]",
      "text/plain": [
       "<matplotlib.figure.Figure at 0x7f27715fdc10>"
      ]
     },
     "metadata": {},
     "output_type": "display_data"
    }
   ],
   "source": [
    "for ri in range(res.shape[0]):\n",
    "    for dim in range(res.shape[1]):\n",
    "        plt.plot(res[ri][dim])\n",
    "plt.ylim(0, 1.1)"
   ]
  },
  {
   "cell_type": "code",
   "execution_count": 48,
   "metadata": {
    "collapsed": true
   },
   "outputs": [],
   "source": [
    "t1_dat = mk_cls_dataset(t_len=0.1, dims=1, n_classes=3, freq=0, class_type=\"flat\", save_res=False)[0]"
   ]
  },
  {
   "cell_type": "code",
   "execution_count": 49,
   "metadata": {
    "collapsed": false
   },
   "outputs": [
    {
     "name": "stdout",
     "output_type": "stream",
     "text": [
      "(3, 1, 110)\n"
     ]
    }
   ],
   "source": [
    "res1 = make_run_args_nengo(t1_dat)\n",
    "print(res1.shape)"
   ]
  },
  {
   "cell_type": "code",
   "execution_count": 50,
   "metadata": {
    "collapsed": false
   },
   "outputs": [
    {
     "data": {
      "text/plain": [
       "(0, 1.1)"
      ]
     },
     "execution_count": 50,
     "metadata": {},
     "output_type": "execute_result"
    },
    {
     "data": {
      "image/png": "[encoded data removed]",
      "text/plain": [
       "<matplotlib.figure.Figure at 0x7f2771a31610>"
      ]
     },
     "metadata": {},
     "output_type": "display_data"
    }
   ],
   "source": [
    "for ri in range(res1.shape[0]):\n",
    "    plt.plot(res1[ri].squeeze())\n",
    "plt.ylim(0, 1.1)"
   ]
  }
 ],
 "metadata": {
  "kernelspec": {
   "display_name": "Python 2",
   "language": "python",
   "name": "python2"
  },
  "language_info": {
   "codemirror_mode": {
    "name": "ipython",
    "version": 2
   },
   "file_extension": ".py",
   "mimetype": "text/x-python",
   "name": "python",
   "nbconvert_exporter": "python",
   "pygments_lexer": "ipython2",
   "version": "2.7.6"
  }
 },
 "nbformat": 4,
 "nbformat_minor": 0
}
