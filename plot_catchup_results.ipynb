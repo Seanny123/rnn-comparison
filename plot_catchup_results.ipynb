{
 "cells": [
  {
   "cell_type": "code",
   "execution_count": 1,
   "metadata": {
    "collapsed": true
   },
   "outputs": [],
   "source": [
    "import seaborn as sns\n",
    "import pandas as pd\n",
    "import matplotlib.pyplot as plt\n",
    "import numpy as np\n",
    "%matplotlib inline"
   ]
  },
  {
   "cell_type": "code",
   "execution_count": 2,
   "metadata": {
    "collapsed": true
   },
   "outputs": [],
   "source": [
    "af = pd.read_hdf('results/ann_catchup_res_20_04_25_49.h5')\n",
    "af[\"dup_num\"] = 20\n",
    "bf = pd.read_hdf('results/ann_catchup_res_10_04_25_30.h5')\n",
    "bf[\"dup_num\"] = 10"
   ]
  },
  {
   "cell_type": "code",
   "execution_count": 15,
   "metadata": {
    "collapsed": true
   },
   "outputs": [],
   "source": [
    "nf = pd.read_hdf('results/ann_catchup_res_100_05_04_55.h5')\n",
    "nf[\"dup_num\"] = 100"
   ]
  },
  {
   "cell_type": "code",
   "execution_count": 16,
   "metadata": {
    "collapsed": false
   },
   "outputs": [
    {
     "data": {
      "text/plain": [
       "Index([u't_len', u'dims', u'n_classes', u'approach', u'accuracy', u'ad_mean',\n",
       "       u'ad_std', u'gd_mean', u'gd_std', u'conf_mean', u'conf_std',\n",
       "       u'aug method', u'dup_num'],\n",
       "      dtype='object')"
      ]
     },
     "execution_count": 16,
     "metadata": {},
     "output_type": "execute_result"
    }
   ],
   "source": [
    "cf = pd.concat((af, bf, nf))\n",
    "cf.columns"
   ]
  },
  {
   "cell_type": "code",
   "execution_count": 17,
   "metadata": {
    "collapsed": false
   },
   "outputs": [],
   "source": [
    "cf.loc[cf['approach'] == 'fvRNN', 'aug method'] = 'repeat with noise\\nand fancy init'\n",
    "cf.loc[cf['approach'] == 'RC', 'aug method'] = 'reservoir repeat\\nwith noise'"
   ]
  },
  {
   "cell_type": "code",
   "execution_count": 20,
   "metadata": {
    "collapsed": false
   },
   "outputs": [
    {
     "data": {
      "image/png": "[encoded data removed]",
      "text/plain": [
       "<matplotlib.figure.Figure at 0x7f3ee7d20650>"
      ]
     },
     "metadata": {},
     "output_type": "display_data"
    }
   ],
   "source": [
    "# we have to come up with a clever way of defining x\n",
    "ff = sns.barplot(x=\"aug method\", y=\"accuracy\", hue=\"dup_num\", data=cf)\n",
    "ff.set_xlabel(\"Augmentation Method\")\n",
    "ff.set_ylabel(\"Mean Accuracy\")\n",
    "ff.set_title(\"Effects of vRNN Augmentation\")\n",
    "ff.set_xticklabels(\n",
    "    [\"Repeat\", \"Repeat with\\nNoise (RC)\", \"Repeat with\\nNoise (vRNN)\", \"Repeat with\\nNoise (alt vRNN)\"]\n",
    ")\n",
    "leg = ff.legend(title=\"Number of\\nDuplicates\", frameon=True, fancybox=True, shadow=True, framealpha=1, loc=\"upper right\")\n",
    "fl = leg.get_frame()\n",
    "fl.set_facecolor('white')\n",
    "fl.set_edgecolor('black')\n",
    "\n",
    "fig = ff.get_figure()\n",
    "fig.subplots_adjust(bottom=0.15)\n",
    "fig.savefig(\"ann_catchup.pdf\", format=\"pdf\", bbox_inches='tight')"
   ]
  },
  {
   "cell_type": "code",
   "execution_count": null,
   "metadata": {
    "collapsed": true
   },
   "outputs": [],
   "source": []
  }
 ],
 "metadata": {
  "kernelspec": {
   "display_name": "Python 2",
   "language": "python",
   "name": "python2"
  },
  "language_info": {
   "codemirror_mode": {
    "name": "ipython",
    "version": 2
   },
   "file_extension": ".py",
   "mimetype": "text/x-python",
   "name": "python",
   "nbconvert_exporter": "python",
   "pygments_lexer": "ipython2",
   "version": "2.7.6"
  }
 },
 "nbformat": 4,
 "nbformat_minor": 0
}
